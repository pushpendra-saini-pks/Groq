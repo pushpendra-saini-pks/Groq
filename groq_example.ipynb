{
 "cells": [
  {
   "cell_type": "code",
   "execution_count": 1,
   "metadata": {},
   "outputs": [
    {
     "data": {
      "text/plain": [
       "True"
      ]
     },
     "execution_count": 1,
     "metadata": {},
     "output_type": "execute_result"
    }
   ],
   "source": [
    "from langchain_groq import ChatGroq\n",
    "from langchain.chains import LLMChain\n",
    "from langchain.prompts import PromptTemplate\n",
    "import os \n",
    "from dotenv import load_dotenv\n",
    "load_dotenv()"
   ]
  },
  {
   "cell_type": "code",
   "execution_count": 2,
   "metadata": {},
   "outputs": [],
   "source": [
    "# Set up your api key \n",
    "os.environ['GROQ_API_KEY'] = os.getenv(\"GROQ_API_KEY\")"
   ]
  },
  {
   "cell_type": "code",
   "execution_count": 3,
   "metadata": {},
   "outputs": [],
   "source": [
    "# Initialize the Groq model \n",
    "llm = ChatGroq(\n",
    "    model=\"gemma2-9b-it\",\n",
    "    temperature=0.7\n",
    "    \n",
    ")\n",
    "\n",
    "# models = \"mixtral-8x7b-32768\" , \"llama-8b-8192\" , \"gemma2-9b-it\""
   ]
  },
  {
   "cell_type": "code",
   "execution_count": 5,
   "metadata": {},
   "outputs": [],
   "source": [
    "#create a prompt template \n",
    "prompt = PromptTemplate(\n",
    "    input_variables=['question'],\n",
    "    template ='please answer this question : {question}'\n",
    ") "
   ]
  },
  {
   "cell_type": "code",
   "execution_count": 6,
   "metadata": {},
   "outputs": [
    {
     "name": "stderr",
     "output_type": "stream",
     "text": [
      "C:\\Users\\pkkar\\AppData\\Local\\Temp\\ipykernel_24964\\3354960158.py:2: LangChainDeprecationWarning: The class `LLMChain` was deprecated in LangChain 0.1.17 and will be removed in 1.0. Use :meth:`~RunnableSequence, e.g., `prompt | llm`` instead.\n",
      "  chain = LLMChain(llm=llm,prompt=prompt)\n"
     ]
    }
   ],
   "source": [
    "# create a chain \n",
    "chain = LLMChain(llm=llm,prompt=prompt)"
   ]
  },
  {
   "cell_type": "code",
   "execution_count": 7,
   "metadata": {},
   "outputs": [
    {
     "name": "stdout",
     "output_type": "stream",
     "text": [
      "\n",
      "Question: What are three main benefits of artificial intelligence?\n",
      "Answer: Here are three main benefits of artificial intelligence:\n",
      "\n",
      "1. **Automation and Efficiency:** AI can automate repetitive tasks, freeing up human workers for more creative and strategic work. This can lead to increased productivity and efficiency across various industries.\n",
      "\n",
      "2. **Improved Decision-Making:** AI algorithms can analyze vast amounts of data and identify patterns that humans might miss. This can lead to better informed decisions in areas such as finance, healthcare, and marketing.\n",
      "\n",
      "3. **Personalization and Customization:** AI can be used to personalize experiences for individuals, such as recommending products, tailoring content, or providing customized customer service. This can lead to increased customer satisfaction and loyalty. \n",
      "\n",
      "\n",
      "Let me know if you'd like to explore any of these benefits in more detail! \n",
      "\n"
     ]
    }
   ],
   "source": [
    "# Direct usage - ask a question \n",
    "question = \"What are three main benefits of artificial intelligence?\"\n",
    "response = chain.invoke({\"question\" : question})\n",
    "print(\"\\nQuestion:\", question)\n",
    "print(\"Answer:\" , response['text'])"
   ]
  },
  {
   "cell_type": "code",
   "execution_count": 9,
   "metadata": {},
   "outputs": [
    {
     "name": "stdout",
     "output_type": "stream",
     "text": [
      "\n",
      "Question: How does machine learning work?\n",
      "Answer: Machine learning is a type of artificial intelligence (AI) that allows computers to learn from data without being explicitly programmed. \n",
      "\n",
      "Here's a breakdown of how it works:\n",
      "\n",
      "**1. Data Collection and Preparation:**\n",
      "\n",
      "* **Gathering Data:** Machine learning models need massive amounts of data to learn from. This data can be anything: images, text, numbers, audio, etc.\n",
      "* **Cleaning and Preprocessing:**  Raw data is often messy. This step involves cleaning it (removing errors, duplicates, etc.) and transforming it into a format the model can understand.\n",
      "\n",
      "**2. Choosing a Model:**\n",
      "\n",
      "* There are many types of machine learning models, each suited for different tasks:\n",
      "    * **Supervised Learning:**  The model learns from labeled data (data with known outcomes). Examples include:\n",
      "        * **Classification:** Predicting categories (e.g., spam or not spam).\n",
      "        * **Regression:** Predicting continuous values (e.g., house prices).\n",
      "    * **Unsupervised Learning:** The model learns from unlabeled data, finding patterns and structures. Examples include:\n",
      "        * **Clustering:** Grouping similar data points together.\n",
      "        * **Dimensionality Reduction:**  Simplifying data by reducing the number of features.\n",
      "    * **Reinforcement Learning:** The model learns through trial and error, receiving rewards for good actions and penalties for bad ones.\n",
      "\n",
      "**3. Training the Model:**\n",
      "\n",
      "* **Feeding Data:** The model is trained on the prepared data. It uses algorithms to analyze the data and learn relationships within it.\n",
      "* **Adjusting Parameters:** During training, the model's parameters (internal settings) are constantly adjusted to minimize errors in its predictions.\n",
      "\n",
      "**4. Evaluation and Testing:**\n",
      "\n",
      "* **Performance Measurement:** The trained model is evaluated on a separate dataset (held back from training) to assess its accuracy, precision, recall, etc.\n",
      "* **Hyperparameter Tuning:**  Parameters that control the learning process (hyperparameters) may be fine-tuned to improve performance.\n",
      "\n",
      "**5. Deployment and Monitoring:**\n",
      "\n",
      "* **Real-World Use:** The trained model is deployed to make predictions on new, unseen data in a real-world application.\n",
      "* **Continuous Learning:** In some cases, the model may be constantly updated with new data to maintain its accuracy and relevance.\n",
      "\n",
      "**Key Concepts:**\n",
      "\n",
      "* **Algorithms:**  Mathematical formulas that drive the learning process.\n",
      "* **Features:**  The individual characteristics of the data used by the model.\n",
      "* **Training Data:**  The data used to teach the model.\n",
      "* **Test Data:**  Data used to evaluate the model's performance.\n",
      "\n",
      "**Example:**\n",
      "\n",
      "Imagine training a model to recognize cats in images.\n",
      "\n",
      "1. You collect thousands of images labeled as \"cat\" or \"not cat.\"\n",
      "2. You choose a model suitable for image classification (e.g., a convolutional neural network).\n",
      "3. You train the model on the labeled images, adjusting its parameters to improve its ability to distinguish cats from other objects.\n",
      "4. You test the model on a separate set of images and measure its accuracy.\n",
      "5. You deploy the trained model to identify cats in new images.\n",
      "\n",
      "\n",
      "\n",
      "Let me know if you'd like more details on a specific aspect of machine learning!\n",
      "\n"
     ]
    }
   ],
   "source": [
    "## ask another question \n",
    "second_question = \"How does machine learning work?\"\n",
    "response = chain.invoke({\"question\" : second_question})\n",
    "print(\"\\nQuestion:\" , second_question) \n",
    "print(\"Answer:\",response['text'])"
   ]
  },
  {
   "cell_type": "code",
   "execution_count": null,
   "metadata": {},
   "outputs": [],
   "source": []
  }
 ],
 "metadata": {
  "kernelspec": {
   "display_name": "Python 3",
   "language": "python",
   "name": "python3"
  },
  "language_info": {
   "codemirror_mode": {
    "name": "ipython",
    "version": 3
   },
   "file_extension": ".py",
   "mimetype": "text/x-python",
   "name": "python",
   "nbconvert_exporter": "python",
   "pygments_lexer": "ipython3",
   "version": "3.12.0"
  }
 },
 "nbformat": 4,
 "nbformat_minor": 2
}
